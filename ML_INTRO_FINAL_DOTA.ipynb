{
 "cells": [
  {
   "cell_type": "markdown",
   "metadata": {},
   "source": [
    "Dota 2 — многопользовательская компьютерная игра жанра MOBA. Игроки играют между собой матчи. В каждом матче, как правило, участвует 10 человек. Матчи формируются из живой очереди, с учётом уровня игры всех игроков. Перед началом игры игроки автоматически разделяются на две команды по пять человек. Одна команда играет за светлую сторону (The Radiant), другая — за тёмную (The Dire). Цель каждой команды — уничтожить главное здание базы противника, трон.\n",
    "\n",
    "Вам нужно построить модель, которая по данным о первых пяти минутах матча будет предсказывать его исход — то есть определять команду-победителя.\n",
    "\n",
    "Чтобы выполнить это задание, вам необходимо провести ряд исследований, сравнить несколько алгоритмов машинного обучения и проверить эффект от ряда манипуляций с признаками. Также, если вам понравится работать с этими данными, вы можете принять участие в соревновании на Kaggle и сравнить свои навыки с другими участниками курса!"
   ]
  },
  {
   "cell_type": "code",
   "execution_count": 161,
   "metadata": {},
   "outputs": [],
   "source": [
    "import pandas as pd\n",
    "import numpy as np\n",
    "import time\n",
    "import datetime\n",
    "import matplotlib.pyplot as plt\n",
    "%matplotlib inline\n",
    "from sklearn.model_selection import KFold\n",
    "from sklearn.model_selection import GridSearchCV\n",
    "from sklearn.ensemble import GradientBoostingClassifier\n",
    "from sklearn.model_selection import cross_val_score\n",
    "from sklearn.preprocessing import StandardScaler\n",
    "from sklearn.linear_model import LogisticRegression"
   ]
  },
  {
   "cell_type": "markdown",
   "metadata": {},
   "source": [
    "### Подход 1: градиентный бустинг \"в лоб\""
   ]
  },
  {
   "cell_type": "markdown",
   "metadata": {},
   "source": [
    "**1.** Считайте таблицу с признаками из файла features.csv с помощью кода, приведенного выше. Удалите признаки, связанные с итогами матча (они помечены в описании данных как отсутствующие в тестовой выборке)."
   ]
  },
  {
   "cell_type": "code",
   "execution_count": 40,
   "metadata": {},
   "outputs": [
    {
     "data": {
      "text/html": [
       "<div>\n",
       "<style scoped>\n",
       "    .dataframe tbody tr th:only-of-type {\n",
       "        vertical-align: middle;\n",
       "    }\n",
       "\n",
       "    .dataframe tbody tr th {\n",
       "        vertical-align: top;\n",
       "    }\n",
       "\n",
       "    .dataframe thead th {\n",
       "        text-align: right;\n",
       "    }\n",
       "</style>\n",
       "<table border=\"1\" class=\"dataframe\">\n",
       "  <thead>\n",
       "    <tr style=\"text-align: right;\">\n",
       "      <th></th>\n",
       "      <th>start_time</th>\n",
       "      <th>lobby_type</th>\n",
       "      <th>r1_hero</th>\n",
       "      <th>r1_level</th>\n",
       "      <th>r1_xp</th>\n",
       "      <th>r1_gold</th>\n",
       "      <th>r1_lh</th>\n",
       "      <th>r1_kills</th>\n",
       "      <th>r1_deaths</th>\n",
       "      <th>r1_items</th>\n",
       "      <th>...</th>\n",
       "      <th>radiant_first_ward_time</th>\n",
       "      <th>dire_bottle_time</th>\n",
       "      <th>dire_courier_time</th>\n",
       "      <th>dire_flying_courier_time</th>\n",
       "      <th>dire_tpscroll_count</th>\n",
       "      <th>dire_boots_count</th>\n",
       "      <th>dire_ward_observer_count</th>\n",
       "      <th>dire_ward_sentry_count</th>\n",
       "      <th>dire_first_ward_time</th>\n",
       "      <th>radiant_win</th>\n",
       "    </tr>\n",
       "    <tr>\n",
       "      <th>match_id</th>\n",
       "      <th></th>\n",
       "      <th></th>\n",
       "      <th></th>\n",
       "      <th></th>\n",
       "      <th></th>\n",
       "      <th></th>\n",
       "      <th></th>\n",
       "      <th></th>\n",
       "      <th></th>\n",
       "      <th></th>\n",
       "      <th></th>\n",
       "      <th></th>\n",
       "      <th></th>\n",
       "      <th></th>\n",
       "      <th></th>\n",
       "      <th></th>\n",
       "      <th></th>\n",
       "      <th></th>\n",
       "      <th></th>\n",
       "      <th></th>\n",
       "      <th></th>\n",
       "    </tr>\n",
       "  </thead>\n",
       "  <tbody>\n",
       "    <tr>\n",
       "      <th>0</th>\n",
       "      <td>1430198770</td>\n",
       "      <td>7</td>\n",
       "      <td>11</td>\n",
       "      <td>5</td>\n",
       "      <td>2098</td>\n",
       "      <td>1489</td>\n",
       "      <td>20</td>\n",
       "      <td>0</td>\n",
       "      <td>0</td>\n",
       "      <td>7</td>\n",
       "      <td>...</td>\n",
       "      <td>35.0</td>\n",
       "      <td>103.0</td>\n",
       "      <td>-84.0</td>\n",
       "      <td>221.0</td>\n",
       "      <td>3</td>\n",
       "      <td>4</td>\n",
       "      <td>2</td>\n",
       "      <td>2</td>\n",
       "      <td>-52.0</td>\n",
       "      <td>1</td>\n",
       "    </tr>\n",
       "    <tr>\n",
       "      <th>1</th>\n",
       "      <td>1430220345</td>\n",
       "      <td>0</td>\n",
       "      <td>42</td>\n",
       "      <td>4</td>\n",
       "      <td>1188</td>\n",
       "      <td>1033</td>\n",
       "      <td>9</td>\n",
       "      <td>0</td>\n",
       "      <td>1</td>\n",
       "      <td>12</td>\n",
       "      <td>...</td>\n",
       "      <td>-20.0</td>\n",
       "      <td>149.0</td>\n",
       "      <td>-84.0</td>\n",
       "      <td>195.0</td>\n",
       "      <td>5</td>\n",
       "      <td>4</td>\n",
       "      <td>3</td>\n",
       "      <td>1</td>\n",
       "      <td>-5.0</td>\n",
       "      <td>1</td>\n",
       "    </tr>\n",
       "    <tr>\n",
       "      <th>2</th>\n",
       "      <td>1430227081</td>\n",
       "      <td>7</td>\n",
       "      <td>33</td>\n",
       "      <td>4</td>\n",
       "      <td>1319</td>\n",
       "      <td>1270</td>\n",
       "      <td>22</td>\n",
       "      <td>0</td>\n",
       "      <td>0</td>\n",
       "      <td>12</td>\n",
       "      <td>...</td>\n",
       "      <td>-39.0</td>\n",
       "      <td>45.0</td>\n",
       "      <td>-77.0</td>\n",
       "      <td>221.0</td>\n",
       "      <td>3</td>\n",
       "      <td>4</td>\n",
       "      <td>3</td>\n",
       "      <td>1</td>\n",
       "      <td>13.0</td>\n",
       "      <td>0</td>\n",
       "    </tr>\n",
       "    <tr>\n",
       "      <th>3</th>\n",
       "      <td>1430263531</td>\n",
       "      <td>1</td>\n",
       "      <td>29</td>\n",
       "      <td>4</td>\n",
       "      <td>1779</td>\n",
       "      <td>1056</td>\n",
       "      <td>14</td>\n",
       "      <td>0</td>\n",
       "      <td>0</td>\n",
       "      <td>5</td>\n",
       "      <td>...</td>\n",
       "      <td>-30.0</td>\n",
       "      <td>124.0</td>\n",
       "      <td>-80.0</td>\n",
       "      <td>184.0</td>\n",
       "      <td>0</td>\n",
       "      <td>4</td>\n",
       "      <td>2</td>\n",
       "      <td>0</td>\n",
       "      <td>27.0</td>\n",
       "      <td>0</td>\n",
       "    </tr>\n",
       "    <tr>\n",
       "      <th>4</th>\n",
       "      <td>1430282290</td>\n",
       "      <td>7</td>\n",
       "      <td>13</td>\n",
       "      <td>4</td>\n",
       "      <td>1431</td>\n",
       "      <td>1090</td>\n",
       "      <td>8</td>\n",
       "      <td>1</td>\n",
       "      <td>0</td>\n",
       "      <td>8</td>\n",
       "      <td>...</td>\n",
       "      <td>46.0</td>\n",
       "      <td>182.0</td>\n",
       "      <td>-80.0</td>\n",
       "      <td>225.0</td>\n",
       "      <td>6</td>\n",
       "      <td>3</td>\n",
       "      <td>3</td>\n",
       "      <td>0</td>\n",
       "      <td>-16.0</td>\n",
       "      <td>0</td>\n",
       "    </tr>\n",
       "  </tbody>\n",
       "</table>\n",
       "<p>5 rows × 103 columns</p>\n",
       "</div>"
      ],
      "text/plain": [
       "          start_time  lobby_type  r1_hero  r1_level  r1_xp  r1_gold  r1_lh  \\\n",
       "match_id                                                                     \n",
       "0         1430198770           7       11         5   2098     1489     20   \n",
       "1         1430220345           0       42         4   1188     1033      9   \n",
       "2         1430227081           7       33         4   1319     1270     22   \n",
       "3         1430263531           1       29         4   1779     1056     14   \n",
       "4         1430282290           7       13         4   1431     1090      8   \n",
       "\n",
       "          r1_kills  r1_deaths  r1_items  ...  radiant_first_ward_time  \\\n",
       "match_id                                 ...                            \n",
       "0                0          0         7  ...                     35.0   \n",
       "1                0          1        12  ...                    -20.0   \n",
       "2                0          0        12  ...                    -39.0   \n",
       "3                0          0         5  ...                    -30.0   \n",
       "4                1          0         8  ...                     46.0   \n",
       "\n",
       "          dire_bottle_time  dire_courier_time  dire_flying_courier_time  \\\n",
       "match_id                                                                  \n",
       "0                    103.0              -84.0                     221.0   \n",
       "1                    149.0              -84.0                     195.0   \n",
       "2                     45.0              -77.0                     221.0   \n",
       "3                    124.0              -80.0                     184.0   \n",
       "4                    182.0              -80.0                     225.0   \n",
       "\n",
       "          dire_tpscroll_count  dire_boots_count  dire_ward_observer_count  \\\n",
       "match_id                                                                    \n",
       "0                           3                 4                         2   \n",
       "1                           5                 4                         3   \n",
       "2                           3                 4                         3   \n",
       "3                           0                 4                         2   \n",
       "4                           6                 3                         3   \n",
       "\n",
       "          dire_ward_sentry_count  dire_first_ward_time  radiant_win  \n",
       "match_id                                                             \n",
       "0                              2                 -52.0            1  \n",
       "1                              1                  -5.0            1  \n",
       "2                              1                  13.0            0  \n",
       "3                              0                  27.0            0  \n",
       "4                              0                 -16.0            0  \n",
       "\n",
       "[5 rows x 103 columns]"
      ]
     },
     "execution_count": 40,
     "metadata": {},
     "output_type": "execute_result"
    }
   ],
   "source": [
    "train = pd.read_csv(r'C:\\Users\\snkna\\Downloads\\features.csv', index_col=\"match_id\")\n",
    "# Тк radiant_win целевая переменная удалим ее позже\n",
    "game_result_columns_list = ['duration','tower_status_radiant','tower_status_dire','barracks_status_radiant','barracks_status_dire']\n",
    "X_train = train.drop(game_result_columns_list,axis=1)\n",
    "X_train.head()"
   ]
  },
  {
   "cell_type": "markdown",
   "metadata": {},
   "source": [
    "**2.** Проверьте выборку на наличие пропусков с помощью функции count(), которая для каждого столбца показывает число заполненных значений. Много ли пропусков в данных? Запишите названия признаков, имеющих пропуски, и попробуйте для любых двух из них дать обоснование, почему их значения могут быть пропущены."
   ]
  },
  {
   "cell_type": "code",
   "execution_count": 41,
   "metadata": {
    "scrolled": true
   },
   "outputs": [
    {
     "data": {
      "text/plain": [
       "first_blood_time               79.9\n",
       "first_blood_team               79.9\n",
       "first_blood_player1            79.9\n",
       "first_blood_player2            54.8\n",
       "radiant_bottle_time            83.9\n",
       "radiant_courier_time           99.3\n",
       "radiant_flying_courier_time    71.7\n",
       "radiant_first_ward_time        98.1\n",
       "dire_bottle_time               83.4\n",
       "dire_courier_time              99.3\n",
       "dire_flying_courier_time       73.2\n",
       "dire_first_ward_time           98.1\n",
       "dtype: float64"
      ]
     },
     "execution_count": 41,
     "metadata": {},
     "output_type": "execute_result"
    }
   ],
   "source": [
    "nan_columns_list = list(X_train.count()[X_train.count()<X_train.shape[0]].index)\n",
    "# % Заполенных занчений в столбцах с пропусками\n",
    "round(X_train.count()[X_train.count()<X_train.shape[0]]/X_train.shape[0]*100,1)"
   ]
  },
  {
   "cell_type": "code",
   "execution_count": 42,
   "metadata": {
    "scrolled": true
   },
   "outputs": [
    {
     "data": {
      "text/html": [
       "<div>\n",
       "<style scoped>\n",
       "    .dataframe tbody tr th:only-of-type {\n",
       "        vertical-align: middle;\n",
       "    }\n",
       "\n",
       "    .dataframe tbody tr th {\n",
       "        vertical-align: top;\n",
       "    }\n",
       "\n",
       "    .dataframe thead th {\n",
       "        text-align: right;\n",
       "    }\n",
       "</style>\n",
       "<table border=\"1\" class=\"dataframe\">\n",
       "  <thead>\n",
       "    <tr style=\"text-align: right;\">\n",
       "      <th></th>\n",
       "      <th>nan_col</th>\n",
       "      <th>%_nan_all</th>\n",
       "    </tr>\n",
       "  </thead>\n",
       "  <tbody>\n",
       "    <tr>\n",
       "      <th>0</th>\n",
       "      <td>first_blood_time</td>\n",
       "      <td>20.11</td>\n",
       "    </tr>\n",
       "    <tr>\n",
       "      <th>1</th>\n",
       "      <td>first_blood_team</td>\n",
       "      <td>20.11</td>\n",
       "    </tr>\n",
       "    <tr>\n",
       "      <th>2</th>\n",
       "      <td>first_blood_player1</td>\n",
       "      <td>20.11</td>\n",
       "    </tr>\n",
       "    <tr>\n",
       "      <th>3</th>\n",
       "      <td>first_blood_player2</td>\n",
       "      <td>45.24</td>\n",
       "    </tr>\n",
       "    <tr>\n",
       "      <th>4</th>\n",
       "      <td>radiant_bottle_time</td>\n",
       "      <td>16.14</td>\n",
       "    </tr>\n",
       "    <tr>\n",
       "      <th>5</th>\n",
       "      <td>radiant_courier_time</td>\n",
       "      <td>0.71</td>\n",
       "    </tr>\n",
       "    <tr>\n",
       "      <th>6</th>\n",
       "      <td>radiant_flying_courier_time</td>\n",
       "      <td>28.26</td>\n",
       "    </tr>\n",
       "    <tr>\n",
       "      <th>7</th>\n",
       "      <td>radiant_first_ward_time</td>\n",
       "      <td>1.89</td>\n",
       "    </tr>\n",
       "    <tr>\n",
       "      <th>8</th>\n",
       "      <td>dire_bottle_time</td>\n",
       "      <td>16.60</td>\n",
       "    </tr>\n",
       "    <tr>\n",
       "      <th>9</th>\n",
       "      <td>dire_courier_time</td>\n",
       "      <td>0.70</td>\n",
       "    </tr>\n",
       "    <tr>\n",
       "      <th>10</th>\n",
       "      <td>dire_flying_courier_time</td>\n",
       "      <td>26.84</td>\n",
       "    </tr>\n",
       "    <tr>\n",
       "      <th>11</th>\n",
       "      <td>dire_first_ward_time</td>\n",
       "      <td>1.88</td>\n",
       "    </tr>\n",
       "  </tbody>\n",
       "</table>\n",
       "</div>"
      ],
      "text/plain": [
       "                        nan_col  %_nan_all\n",
       "0              first_blood_time      20.11\n",
       "1              first_blood_team      20.11\n",
       "2           first_blood_player1      20.11\n",
       "3           first_blood_player2      45.24\n",
       "4           radiant_bottle_time      16.14\n",
       "5          radiant_courier_time       0.71\n",
       "6   radiant_flying_courier_time      28.26\n",
       "7       radiant_first_ward_time       1.89\n",
       "8              dire_bottle_time      16.60\n",
       "9             dire_courier_time       0.70\n",
       "10     dire_flying_courier_time      26.84\n",
       "11         dire_first_ward_time       1.88"
      ]
     },
     "execution_count": 42,
     "metadata": {},
     "output_type": "execute_result"
    }
   ],
   "source": [
    "# % Пропусков\n",
    "l1 = []\n",
    "for i in nan_columns_list:\n",
    "    l1.append((i,round(X_train[X_train[i].isna()==True].shape[0]/X_train.shape[0]*100,2)))\n",
    "nan_frame = pd.DataFrame(data=l1,columns=['nan_col','%_nan_all'])\n",
    "nan_frame"
   ]
  },
  {
   "cell_type": "markdown",
   "metadata": {},
   "source": [
    "Все эти признаки принимают 0-е значение, тк это признаки события \"первая кровь\" (first blood). **Если событие \"первая кровь\" не успело произойти за первые 5 минут, то признаки принимают пропущенное значение**:\n",
    "\n",
    "- **first_blood_time(игровое время первой крови)** в **20%** случаев первой крови **нет в первые 5 минут игры.**\n",
    "- **first_blood_team(команда, совершившая первую кровь (0 — Radiant, 1 — Dire))** в *20%* случаев первой крови **нет в первые 5 минут игры.**\n",
    "- **first_blood_player1(игрок, причастный к событию)** в **20%** случаев **первой крови нет в первые 5 минут игры.**\n",
    "- **first_blood_player2(второй игрок, причастный к событию)** в **45%** случаев **убийство первой крови совершается 1-м игроком.**\n",
    "\n",
    "Признаки для каждой команды (префиксы radiant_ и dire_)\n",
    "- **bottle_time(время первого приобретения командой предмета \"bottle\")** в **16%** случаев (для radian и dire)  случаев команда **не приобретает предмет \"bottle\" в первые 5 минут игры.**\n",
    "- **courier_time(время приобретения предмета \"courier\" )** в **0.7%** случаев (для radian и dire) случаев команда **не покупает предмет \"courier\" в первые 5 минут игры.**\n",
    "- **flying_courier_time(время приобретения предмета \"flying_courier\" )** в **28% для dire** и в **27% для radiant** случаев команда **не покупает предмет \"flying_courier\" в первые 5 минут игры.**\n",
    "- first_ward_time(время установки командой первого \"наблюдателя\", т.е. предмета, который позволяет видеть часть игрового поля) в **1.9%** случаев команда **не усланавливает первого \"наблюдателя\" в первые 5 минут игры.**"
   ]
  },
  {
   "cell_type": "markdown",
   "metadata": {},
   "source": [
    "**3.** Замените пропуски на нули с помощью функции fillna(). На самом деле этот способ является предпочтительным для логистической регрессии, поскольку он позволит пропущенному значению не вносить никакого вклада в предсказание. Для деревьев часто лучшим вариантом оказывается замена пропуска на очень большое или очень маленькое значение — в этом случае при построении разбиения вершины можно будет отправить объекты с пропусками в отдельную ветвь дерева. Также есть и другие подходы — например, замена пропуска на среднее значение признака. Мы не требуем этого в задании, но при желании попробуйте разные подходы к обработке пропусков и сравните их между собой."
   ]
  },
  {
   "cell_type": "code",
   "execution_count": 43,
   "metadata": {},
   "outputs": [],
   "source": [
    "X_train = X_train.fillna(0)"
   ]
  },
  {
   "cell_type": "markdown",
   "metadata": {},
   "source": [
    "**4.** Какой столбец содержит целевую переменную? Запишите его название.\n",
    "Это столбец **radiant_win**"
   ]
  },
  {
   "cell_type": "code",
   "execution_count": 44,
   "metadata": {},
   "outputs": [],
   "source": [
    "# 1, если победила команда Radiant, 0 — иначе\n",
    "y = X_train['radiant_win']\n",
    "X_train.drop(\"radiant_win\", axis=1,inplace=True)"
   ]
  },
  {
   "cell_type": "markdown",
   "metadata": {},
   "source": [
    "**5.** Забудем, что в выборке есть категориальные признаки, и попробуем обучить градиентный бустинг над деревьями на имеющейся матрице \"объекты-признаки\". Зафиксируйте генератор разбиений для кросс-валидации по 5 блокам (KFold), не забудьте перемешать при этом выборку (shuffle=True), поскольку данные в таблице отсортированы по времени, и без перемешивания можно столкнуться с нежелательными эффектами при оценивании качества. Оцените качество градиентного бустинга (GradientBoostingClassifier) с помощью данной кросс-валидации, попробуйте при этом разное количество деревьев (как минимум протестируйте следующие значения для количества деревьев: 10, 20, 30). Долго ли настраивались классификаторы? Достигнут ли оптимум на испытанных значениях параметра n_estimators, или же качество, скорее всего, продолжит расти при дальнейшем его увеличении?"
   ]
  },
  {
   "cell_type": "code",
   "execution_count": 235,
   "metadata": {},
   "outputs": [
    {
     "name": "stdout",
     "output_type": "stream",
     "text": [
      "\u001b[1mn_estimators:\u001b[0m 10\n",
      "\u001b[95mlearning_rate:\u001b[0m'0.1,roc_auc_5kfold_score_mean: 0.665,Time elapsed: 0:00:35.070167\n",
      "\u001b[95mlearning_rate:\u001b[0m'0.3,roc_auc_5kfold_score_mean: 0.684,Time elapsed: 0:00:36.465437\n",
      "\u001b[95mlearning_rate:\u001b[0m'0.5,roc_auc_5kfold_score_mean: 0.686,Time elapsed: 0:00:35.808193\n",
      "\u001b[95mlearning_rate:\u001b[0m'0.7,roc_auc_5kfold_score_mean: 0.686,Time elapsed: 0:00:35.246699\n",
      "\u001b[95mlearning_rate:\u001b[0m'0.9,roc_auc_5kfold_score_mean: 0.684,Time elapsed: 0:00:37.134646\n",
      "\u001b[1mn_estimators:\u001b[0m 20\n",
      "\u001b[95mlearning_rate:\u001b[0m'0.1,roc_auc_5kfold_score_mean: 0.682,Time elapsed: 0:01:11.830816\n",
      "\u001b[95mlearning_rate:\u001b[0m'0.3,roc_auc_5kfold_score_mean: 0.696,Time elapsed: 0:01:11.562534\n",
      "\u001b[95mlearning_rate:\u001b[0m'0.5,roc_auc_5kfold_score_mean: 0.698,Time elapsed: 0:01:11.263378\n",
      "\u001b[95mlearning_rate:\u001b[0m'0.7,roc_auc_5kfold_score_mean: 0.697,Time elapsed: 0:01:11.658280\n",
      "\u001b[95mlearning_rate:\u001b[0m'0.9,roc_auc_5kfold_score_mean: 0.694,Time elapsed: 0:01:11.877690\n",
      "\u001b[1mn_estimators:\u001b[0m 30\n",
      "\u001b[95mlearning_rate:\u001b[0m'0.1,roc_auc_5kfold_score_mean: 0.690,Time elapsed: 0:01:47.207290\n",
      "\u001b[95mlearning_rate:\u001b[0m'0.3,roc_auc_5kfold_score_mean: 0.702,Time elapsed: 0:01:45.762031\n",
      "\u001b[95mlearning_rate:\u001b[0m'0.5,roc_auc_5kfold_score_mean: 0.702,Time elapsed: 0:01:45.357116\n",
      "\u001b[95mlearning_rate:\u001b[0m'0.7,roc_auc_5kfold_score_mean: 0.701,Time elapsed: 0:01:46.137533\n",
      "\u001b[95mlearning_rate:\u001b[0m'0.9,roc_auc_5kfold_score_mean: 0.697,Time elapsed: 0:01:45.766035\n",
      "\u001b[1mn_estimators:\u001b[0m 50\n",
      "\u001b[95mlearning_rate:\u001b[0m'0.1,roc_auc_5kfold_score_mean: 0.697,Time elapsed: 0:02:55.246202\n",
      "\u001b[95mlearning_rate:\u001b[0m'0.3,roc_auc_5kfold_score_mean: 0.707,Time elapsed: 0:02:55.379769\n",
      "\u001b[95mlearning_rate:\u001b[0m'0.5,roc_auc_5kfold_score_mean: 0.707,Time elapsed: 0:02:55.816715\n",
      "\u001b[95mlearning_rate:\u001b[0m'0.7,roc_auc_5kfold_score_mean: 0.705,Time elapsed: 0:02:56.887735\n",
      "\u001b[95mlearning_rate:\u001b[0m'0.9,roc_auc_5kfold_score_mean: 0.700,Time elapsed: 0:02:56.537672\n",
      "\u001b[1mn_estimators:\u001b[0m 100\n",
      "\u001b[95mlearning_rate:\u001b[0m'0.1,roc_auc_5kfold_score_mean: 0.706,Time elapsed: 0:05:51.914454\n",
      "\u001b[95mlearning_rate:\u001b[0m'0.3,roc_auc_5kfold_score_mean: 0.714,Time elapsed: 0:05:49.146853\n",
      "\u001b[95mlearning_rate:\u001b[0m'0.5,roc_auc_5kfold_score_mean: 0.712,Time elapsed: 0:09:21.586344\n",
      "\u001b[95mlearning_rate:\u001b[0m'0.7,roc_auc_5kfold_score_mean: 0.706,Time elapsed: 0:06:18.141745\n",
      "\u001b[95mlearning_rate:\u001b[0m'0.9,roc_auc_5kfold_score_mean: 0.701,Time elapsed: 0:06:14.645568\n"
     ]
    },
    {
     "data": {
      "image/png": "[encoded data removed]",
      "text/plain": [
       "<Figure size 432x288 with 1 Axes>"
      ]
     },
     "metadata": {
      "needs_background": "light"
     },
     "output_type": "display_data"
    }
   ],
   "source": [
    "cv = KFold(n_splits=5, shuffle=True, random_state=42)\n",
    "n_estimators_list = [10, 20, 30,50,100]\n",
    "learning_rate_list = np.arange(0.1, 1, 0.2)\n",
    "scores_list = []\n",
    "df = {}\n",
    "\n",
    "for j in n_estimators_list:\n",
    "    print('\\033[1mn_estimators:\\033[0m',j)\n",
    "    score_list = []\n",
    "    for w in learning_rate_list:\n",
    "        clf = GradientBoostingClassifier(random_state=42,n_estimators=j,learning_rate=w)\n",
    "        start_time = datetime.datetime.now()   \n",
    "        scores = cross_val_score(clf, X_train, y, cv=cv, scoring='roc_auc').mean()\n",
    "        end_time = datetime.datetime.now()\n",
    "        print(f\"\\033[95mlearning_rate:\\033[0m'{round(w,1)},roc_auc_5kfold_score_mean: {scores:.3f},Time elapsed: {end_time - start_time}\")\n",
    "#         print(\"Time elapsed:\",end_time - start_time)\n",
    "        score_list.append(scores)\n",
    "    df[j] = score_list\n",
    "    \n",
    "plt.figure()\n",
    "for m in n_estimators_list:\n",
    "    plt.plot(np.arange(0.1, 1, 0.2),df[m])\n",
    "plt.legend(['Score. 10 trees','Score. 20 trees','Score. 30 trees','Score. 50 trees','Score. 100 trees'], loc = 'best')\n",
    "plt.xlabel('learning_rate')\n",
    "plt.ylabel('mean_test_roc_auc_5_folds')\n",
    "plt.title('Оценка точности GradientBoostingClassifier в зависимости от кол-ва деревьев')\n",
    "plt.show()"
   ]
  },
  {
   "cell_type": "markdown",
   "metadata": {},
   "source": [
    "6. Как долго проводилась кросс-валидация для градиентного бустинга с 30 деревьями? Инструкцию по измерению времени можно найти выше по тексту. Какое качество при этом получилось?"
   ]
  },
  {
   "cell_type": "code",
   "execution_count": 164,
   "metadata": {},
   "outputs": [
    {
     "name": "stdout",
     "output_type": "stream",
     "text": [
      "Кросс-валидация для градиентного бустинга с 30 деревьями заняла 0:01:57.775709./n Показатель метрики качества AUC-ROC в таком случае равен 0.7024742811365648.\n"
     ]
    }
   ],
   "source": [
    "cv = KFold(n_splits=5, shuffle=True, random_state=42)\n",
    "clf = GradientBoostingClassifier(random_state=42,n_estimators=30,learning_rate=0.5)\n",
    "clf.fit(X_train, y)\n",
    "start_time = datetime.datetime.now()\n",
    "cv_est = cross_val_score(clf, X_train, y, cv=cv, scoring='roc_auc').mean()\n",
    "time_est = datetime.datetime.now() - start_time\n",
    "print('Кросс-валидация для градиентного бустинга с 30 деревьями заняла {}.\\n Показатель метрики качества AUC-ROC в таком случае равен {}.'.format(time_est,cv_est))"
   ]
  },
  {
   "cell_type": "code",
   "execution_count": 223,
   "metadata": {},
   "outputs": [
    {
     "name": "stdout",
     "output_type": "stream",
     "text": [
      "Кросс-валидация для градиентного бустинга с 100 деревьями заняла 0:06:35.203366.\n",
      " Показатель метрики качества AUC-ROC в таком случае равен 0.713874396407482.\n"
     ]
    }
   ],
   "source": [
    "cv = KFold(n_splits=5, shuffle=True, random_state=42)\n",
    "clf = GradientBoostingClassifier(random_state=42,n_estimators=100,learning_rate=0.3)\n",
    "clf.fit(X_train, y)\n",
    "start_time = datetime.datetime.now()\n",
    "cv_est = cross_val_score(clf, X_train, y, cv=cv, scoring='roc_auc').mean()\n",
    "time_est = datetime.datetime.now() - start_time\n",
    "print('Кросс-валидация для градиентного бустинга с 100 деревьями заняла {}.\\n Показатель метрики качества AUC-ROC в таком случае равен {}.'.format(time_est,cv_est))"
   ]
  },
  {
   "cell_type": "markdown",
   "metadata": {},
   "source": [
    "7. Имеет ли смысл использовать больше 30 деревьев в градиентном бустинге? Что можно сделать, чтобы ускорить его обучение при увеличении количества деревьев?\n",
    "\n",
    "**Ответ**: Увеличение количества деревьев также показатель метрики AUC-ROC, приближая его к 0.72. Однако для 100 деревьев время обучения 6.5 мин при AUC-ROC=0.71. Для достижения большего качества имеет смысл использовать более 30 деревьев. Для ускорения обучения можно использовать не всю выборку, а некоторое ее подмножество — например, половину объектов. Также можно уменьшить глубину деревьев (max_depth)."
   ]
  },
  {
   "cell_type": "markdown",
   "metadata": {},
   "source": [
    "### Подход 2: логистическая регрессия"
   ]
  },
  {
   "cell_type": "markdown",
   "metadata": {},
   "source": [
    "**1.** Оцените качество логистической регрессии (sklearn.linear_model.LogisticRegression с L2-регуляризацией) с помощью кросс-валидации по той же схеме, которая использовалась для градиентного бустинга. Подберите при этом лучший параметр регуляризации (C). Какое наилучшее качество у вас получилось? Как оно соотносится с качеством градиентного бустинга? Чем вы можете объяснить эту разницу? Быстрее ли работает логистическая регрессия по сравнению с градиентным бустингом?"
   ]
  },
  {
   "cell_type": "code",
   "execution_count": 249,
   "metadata": {},
   "outputs": [
    {
     "name": "stdout",
     "output_type": "stream",
     "text": [
      "Наилучшее значение показателя AUC-ROC достигается при C = 0.01 и равно 0.72.\n"
     ]
    },
    {
     "data": {
      "image/png": "[encoded data removed]",
      "text/plain": [
       "<Figure size 432x288 with 1 Axes>"
      ]
     },
     "metadata": {
      "needs_background": "light"
     },
     "output_type": "display_data"
    },
    {
     "data": {
      "text/html": [
       "<div>\n",
       "<style scoped>\n",
       "    .dataframe tbody tr th:only-of-type {\n",
       "        vertical-align: middle;\n",
       "    }\n",
       "\n",
       "    .dataframe tbody tr th {\n",
       "        vertical-align: top;\n",
       "    }\n",
       "\n",
       "    .dataframe thead th {\n",
       "        text-align: right;\n",
       "    }\n",
       "</style>\n",
       "<table border=\"1\" class=\"dataframe\">\n",
       "  <thead>\n",
       "    <tr style=\"text-align: right;\">\n",
       "      <th></th>\n",
       "      <th>C_value</th>\n",
       "      <th>roc_auc_5kfold_score_mean</th>\n",
       "      <th>time_elapsed</th>\n",
       "    </tr>\n",
       "  </thead>\n",
       "  <tbody>\n",
       "    <tr>\n",
       "      <th>0</th>\n",
       "      <td>0.00001</td>\n",
       "      <td>0.695155</td>\n",
       "      <td>00:00:02.347249</td>\n",
       "    </tr>\n",
       "    <tr>\n",
       "      <th>1</th>\n",
       "      <td>0.00010</td>\n",
       "      <td>0.711352</td>\n",
       "      <td>00:00:02.823753</td>\n",
       "    </tr>\n",
       "    <tr>\n",
       "      <th>2</th>\n",
       "      <td>0.00100</td>\n",
       "      <td>0.716363</td>\n",
       "      <td>00:00:04.237803</td>\n",
       "    </tr>\n",
       "    <tr>\n",
       "      <th>3</th>\n",
       "      <td>0.01000</td>\n",
       "      <td>0.716550</td>\n",
       "      <td>00:00:06.075695</td>\n",
       "    </tr>\n",
       "    <tr>\n",
       "      <th>4</th>\n",
       "      <td>0.10000</td>\n",
       "      <td>0.716527</td>\n",
       "      <td>00:00:06.243046</td>\n",
       "    </tr>\n",
       "    <tr>\n",
       "      <th>5</th>\n",
       "      <td>1.00000</td>\n",
       "      <td>0.716522</td>\n",
       "      <td>00:00:05.927999</td>\n",
       "    </tr>\n",
       "    <tr>\n",
       "      <th>6</th>\n",
       "      <td>10.00000</td>\n",
       "      <td>0.716522</td>\n",
       "      <td>00:00:06.565957</td>\n",
       "    </tr>\n",
       "    <tr>\n",
       "      <th>7</th>\n",
       "      <td>100.00000</td>\n",
       "      <td>0.716522</td>\n",
       "      <td>00:00:05.945598</td>\n",
       "    </tr>\n",
       "    <tr>\n",
       "      <th>8</th>\n",
       "      <td>1000.00000</td>\n",
       "      <td>0.716522</td>\n",
       "      <td>00:00:06.018788</td>\n",
       "    </tr>\n",
       "    <tr>\n",
       "      <th>9</th>\n",
       "      <td>10000.00000</td>\n",
       "      <td>0.716522</td>\n",
       "      <td>00:00:06.263735</td>\n",
       "    </tr>\n",
       "    <tr>\n",
       "      <th>10</th>\n",
       "      <td>100000.00000</td>\n",
       "      <td>0.716522</td>\n",
       "      <td>00:00:05.881385</td>\n",
       "    </tr>\n",
       "  </tbody>\n",
       "</table>\n",
       "</div>"
      ],
      "text/plain": [
       "         C_value  roc_auc_5kfold_score_mean    time_elapsed\n",
       "0        0.00001                   0.695155 00:00:02.347249\n",
       "1        0.00010                   0.711352 00:00:02.823753\n",
       "2        0.00100                   0.716363 00:00:04.237803\n",
       "3        0.01000                   0.716550 00:00:06.075695\n",
       "4        0.10000                   0.716527 00:00:06.243046\n",
       "5        1.00000                   0.716522 00:00:05.927999\n",
       "6       10.00000                   0.716522 00:00:06.565957\n",
       "7      100.00000                   0.716522 00:00:05.945598\n",
       "8     1000.00000                   0.716522 00:00:06.018788\n",
       "9    10000.00000                   0.716522 00:00:06.263735\n",
       "10  100000.00000                   0.716522 00:00:05.881385"
      ]
     },
     "execution_count": 249,
     "metadata": {},
     "output_type": "execute_result"
    }
   ],
   "source": [
    "scaler = StandardScaler()\n",
    "X_train_scaled = pd.DataFrame(scaler.fit_transform(X_train), index=X_train.index, columns=X_train.columns)\n",
    "\n",
    "\n",
    "def LR_define(X,y):\n",
    "    scores_lr_list = []\n",
    "    result_df = pd.DataFrame()\n",
    "    C_array =  np.power(10.0, np.arange(-5, 6))\n",
    "    cv = KFold(n_splits=5, shuffle=True, random_state=42)\n",
    "    for n,k in enumerate(C_array):\n",
    "        result_df.loc[n,'C_value'] = k\n",
    "        lr_model = LogisticRegression(C=k,random_state=42,max_iter=1200)\n",
    "        start_time = datetime.datetime.now()\n",
    "        cv_est = cross_val_score(lr_model, X, y, cv=cv, scoring='roc_auc').mean()\n",
    "        end_time = datetime.datetime.now()\n",
    "        result_df.loc[n,'roc_auc_5kfold_score_mean'] = round(cv_est,6)\n",
    "        result_df.loc[n,'time_elapsed'] = end_time - start_time\n",
    "        scores_lr_list.append(cv_est)\n",
    "        \n",
    "    #Самым оптимальным будет первый C с максимальной оценкой качетва. Этому будет соответствовать алгоритм с меньшим временем обучения.\n",
    "    best_C = C_array[np.argmax(scores_lr_list)]\n",
    "    print(f\"Наилучшее значение показателя AUC-ROC достигается при C = {best_C:.2f} и равно {np.max(scores_lr_list):.2f}.\")\n",
    "    \n",
    "    fig = plt.figure()\n",
    "    ax = plt.axes()\n",
    "    ax.plot(np.arange(-5, 6),scores_lr_list)\n",
    "    ax.scatter(np.arange(-5, 6)[np.argmax(scores_lr_list)],np.max(scores_lr_list),c='green')\n",
    "    ax.set_xlabel('Значение i для С=10^i')\n",
    "    ax.set_ylabel('ср оценка на кросс-валидации 5 блоков')\n",
    "    plt.title('Оценка точности LogisticRegression в зависимости от С')\n",
    "    plt.show()\n",
    "    return result_df\n",
    "\n",
    "result_df = LR_define(X_train_scaled,y)\n",
    "result_df"
   ]
  },
  {
   "cell_type": "markdown",
   "metadata": {},
   "source": [
    "**Вывод:** Наилучшее значение показателя AUC-ROC достигается при C = 0.01 и равно 0.72.\n",
    "Это сравнимо с градиентным бустингом по 200 - 250 деревьям, при этом логистическая регрессия работает заметно быстрее. Отсутствие разницы с градиентным бустингом может говорить о том, что характер связи между данными фичами и целевой переменной - линейный. Тогда такая связь хорошо описывается логистической регрессией и более сложные модели не нужны."
   ]
  },
  {
   "cell_type": "markdown",
   "metadata": {},
   "source": [
    "**2.** Среди признаков в выборке есть категориальные, которые мы использовали как числовые, что вряд ли является хорошей идеей. Категориальных признаков в этой задаче одиннадцать: lobby_type и r1_hero, r2_hero, ..., r5_hero, d1_hero, d2_hero, ..., d5_hero. Уберите их из выборки, и проведите кросс-валидацию для логистической регрессии на новой выборке с подбором лучшего параметра регуляризации. Изменилось ли качество? Чем вы можете это объяснить?Как влияет на качество логистической регрессии удаление категориальных признаков (укажите новое значение метрики качества)? Чем можно объяснить это изменение?"
   ]
  },
  {
   "cell_type": "code",
   "execution_count": 250,
   "metadata": {},
   "outputs": [
    {
     "name": "stdout",
     "output_type": "stream",
     "text": [
      "Наилучшее значение показателя AUC-ROC достигается при C = 0.01 и равно 0.72.\n"
     ]
    },
    {
     "data": {
      "image/png": "[encoded data removed]",
      "text/plain": [
       "<Figure size 432x288 with 1 Axes>"
      ]
     },
     "metadata": {
      "needs_background": "light"
     },
     "output_type": "display_data"
    },
    {
     "data": {
      "text/html": [
       "<div>\n",
       "<style scoped>\n",
       "    .dataframe tbody tr th:only-of-type {\n",
       "        vertical-align: middle;\n",
       "    }\n",
       "\n",
       "    .dataframe tbody tr th {\n",
       "        vertical-align: top;\n",
       "    }\n",
       "\n",
       "    .dataframe thead th {\n",
       "        text-align: right;\n",
       "    }\n",
       "</style>\n",
       "<table border=\"1\" class=\"dataframe\">\n",
       "  <thead>\n",
       "    <tr style=\"text-align: right;\">\n",
       "      <th></th>\n",
       "      <th>C_value</th>\n",
       "      <th>roc_auc_5kfold_score_mean</th>\n",
       "      <th>time_elapsed</th>\n",
       "      <th>num_roc_auc_5kfold_score_mean</th>\n",
       "      <th>num_time_elapsed</th>\n",
       "    </tr>\n",
       "  </thead>\n",
       "  <tbody>\n",
       "    <tr>\n",
       "      <th>0</th>\n",
       "      <td>0.00001</td>\n",
       "      <td>0.695155</td>\n",
       "      <td>00:00:02.347249</td>\n",
       "      <td>0.695092</td>\n",
       "      <td>00:00:02.303650</td>\n",
       "    </tr>\n",
       "    <tr>\n",
       "      <th>1</th>\n",
       "      <td>0.00010</td>\n",
       "      <td>0.711352</td>\n",
       "      <td>00:00:02.823753</td>\n",
       "      <td>0.711333</td>\n",
       "      <td>00:00:02.688037</td>\n",
       "    </tr>\n",
       "    <tr>\n",
       "      <th>2</th>\n",
       "      <td>0.00100</td>\n",
       "      <td>0.716363</td>\n",
       "      <td>00:00:04.237803</td>\n",
       "      <td>0.716376</td>\n",
       "      <td>00:00:04.155649</td>\n",
       "    </tr>\n",
       "    <tr>\n",
       "      <th>3</th>\n",
       "      <td>0.01000</td>\n",
       "      <td>0.716550</td>\n",
       "      <td>00:00:06.075695</td>\n",
       "      <td>0.716559</td>\n",
       "      <td>00:00:05.688547</td>\n",
       "    </tr>\n",
       "    <tr>\n",
       "      <th>4</th>\n",
       "      <td>0.10000</td>\n",
       "      <td>0.716527</td>\n",
       "      <td>00:00:06.243046</td>\n",
       "      <td>0.716534</td>\n",
       "      <td>00:00:05.517308</td>\n",
       "    </tr>\n",
       "    <tr>\n",
       "      <th>5</th>\n",
       "      <td>1.00000</td>\n",
       "      <td>0.716522</td>\n",
       "      <td>00:00:05.927999</td>\n",
       "      <td>0.716530</td>\n",
       "      <td>00:00:05.892946</td>\n",
       "    </tr>\n",
       "    <tr>\n",
       "      <th>6</th>\n",
       "      <td>10.00000</td>\n",
       "      <td>0.716522</td>\n",
       "      <td>00:00:06.565957</td>\n",
       "      <td>0.716531</td>\n",
       "      <td>00:00:05.704103</td>\n",
       "    </tr>\n",
       "    <tr>\n",
       "      <th>7</th>\n",
       "      <td>100.00000</td>\n",
       "      <td>0.716522</td>\n",
       "      <td>00:00:05.945598</td>\n",
       "      <td>0.716530</td>\n",
       "      <td>00:00:05.479383</td>\n",
       "    </tr>\n",
       "    <tr>\n",
       "      <th>8</th>\n",
       "      <td>1000.00000</td>\n",
       "      <td>0.716522</td>\n",
       "      <td>00:00:06.018788</td>\n",
       "      <td>0.716530</td>\n",
       "      <td>00:00:05.688689</td>\n",
       "    </tr>\n",
       "    <tr>\n",
       "      <th>9</th>\n",
       "      <td>10000.00000</td>\n",
       "      <td>0.716522</td>\n",
       "      <td>00:00:06.263735</td>\n",
       "      <td>0.716530</td>\n",
       "      <td>00:00:05.467496</td>\n",
       "    </tr>\n",
       "    <tr>\n",
       "      <th>10</th>\n",
       "      <td>100000.00000</td>\n",
       "      <td>0.716522</td>\n",
       "      <td>00:00:05.881385</td>\n",
       "      <td>0.716530</td>\n",
       "      <td>00:00:05.806540</td>\n",
       "    </tr>\n",
       "  </tbody>\n",
       "</table>\n",
       "</div>"
      ],
      "text/plain": [
       "         C_value  roc_auc_5kfold_score_mean    time_elapsed  \\\n",
       "0        0.00001                   0.695155 00:00:02.347249   \n",
       "1        0.00010                   0.711352 00:00:02.823753   \n",
       "2        0.00100                   0.716363 00:00:04.237803   \n",
       "3        0.01000                   0.716550 00:00:06.075695   \n",
       "4        0.10000                   0.716527 00:00:06.243046   \n",
       "5        1.00000                   0.716522 00:00:05.927999   \n",
       "6       10.00000                   0.716522 00:00:06.565957   \n",
       "7      100.00000                   0.716522 00:00:05.945598   \n",
       "8     1000.00000                   0.716522 00:00:06.018788   \n",
       "9    10000.00000                   0.716522 00:00:06.263735   \n",
       "10  100000.00000                   0.716522 00:00:05.881385   \n",
       "\n",
       "    num_roc_auc_5kfold_score_mean num_time_elapsed  \n",
       "0                        0.695092  00:00:02.303650  \n",
       "1                        0.711333  00:00:02.688037  \n",
       "2                        0.716376  00:00:04.155649  \n",
       "3                        0.716559  00:00:05.688547  \n",
       "4                        0.716534  00:00:05.517308  \n",
       "5                        0.716530  00:00:05.892946  \n",
       "6                        0.716531  00:00:05.704103  \n",
       "7                        0.716530  00:00:05.479383  \n",
       "8                        0.716530  00:00:05.688689  \n",
       "9                        0.716530  00:00:05.467496  \n",
       "10                       0.716530  00:00:05.806540  "
      ]
     },
     "execution_count": 250,
     "metadata": {},
     "output_type": "execute_result"
    }
   ],
   "source": [
    "cat_columns = ['lobby_type','r1_hero','r2_hero','r3_hero','r4_hero','r5_hero','d1_hero','d2_hero','d3_hero','d4_hero','d5_hero']\n",
    "X_train_scaled_num = X_train_scaled.drop(cat_columns,axis=1)\n",
    "\n",
    "result_df_num = LR_define(X_train_scaled_num,y)\n",
    "result_df_num.rename(columns={'roc_auc_5kfold_score_mean':'num_roc_auc_5kfold_score_mean',\n",
    "                      'time_elapsed':'num_time_elapsed'},inplace=True)\n",
    "result_df = result_df.merge(result_df_num,how='left',on='C_value')\n",
    "result_df"
   ]
  },
  {
   "cell_type": "markdown",
   "metadata": {},
   "source": [
    "**Вывод:** удаление категориальных признаков на десятитысячные доли улучшило качество предсказания. Получается, что в предыдущей модели эти признаки никак не влияли на результат предсказания, модель не посчитала их информативными и практически не использовала для прогноза. Отличия есть на уровне сотых и тысячных долей секунд времени выполнения"
   ]
  },
  {
   "cell_type": "markdown",
   "metadata": {},
   "source": [
    "**3.** На предыдущем шаге мы исключили из выборки признаки rM_hero и dM_hero, которые показывают, какие именно герои играли за каждую команду. Это важные признаки — герои имеют разные характеристики, и некоторые из них выигрывают чаще, чем другие. Выясните из данных, сколько различных идентификаторов героев существует в данной игре (вам может пригодиться фукнция unique или value_counts)."
   ]
  },
  {
   "cell_type": "code",
   "execution_count": 251,
   "metadata": {},
   "outputs": [
    {
     "name": "stdout",
     "output_type": "stream",
     "text": [
      "Число уникальных героев в train: 108. Максимальный ID героя: 112.\n"
     ]
    }
   ],
   "source": [
    "hero_columns = ['r1_hero','r2_hero','r3_hero','r4_hero','r5_hero','d1_hero','d2_hero','d3_hero','d4_hero','d5_hero']\n",
    "unique_heroes = np.unique(X_train[hero_columns].values.ravel())\n",
    "N = max(unique_heroes)\n",
    "print(f\"Число уникальных героев в train: {len(unique_heroes)}. Максимальный ID героя: {N}.\")"
   ]
  },
  {
   "cell_type": "markdown",
   "metadata": {},
   "source": [
    "**4.** Воспользуемся подходом \"мешок слов\" для кодирования информации о героях. Пусть всего в игре имеет N различных героев. Сформируем N признаков, при этом i-й будет равен нулю, если i-й герой не участвовал в матче; единице, если i-й герой играл за команду Radiant; минус единице, если i-й герой играл за команду Dire. Ниже вы можете найти код, который выполняет данной преобразование. Добавьте полученные признаки к числовым, которые вы использовали во втором пункте данного этапа."
   ]
  },
  {
   "cell_type": "code",
   "execution_count": 252,
   "metadata": {},
   "outputs": [
    {
     "name": "stdout",
     "output_type": "stream",
     "text": [
      "(97230, 112)\n"
     ]
    }
   ],
   "source": [
    "# N — количество различных героев в выборке\n",
    "X_pick = np.zeros((X_train.shape[0], N))\n",
    "print(X_pick.shape)\n",
    "for i, match_id in enumerate(X_train.index):\n",
    "    for p in range(1,6):\n",
    "        X_pick[i, X_train.loc[match_id, f\"r{p}_hero\"]-1] = 1\n",
    "        X_pick[i, X_train.loc[match_id, f\"d{p}_hero\"]-1] = -1\n",
    "X_heroes_dummy = pd.DataFrame(X_pick, index=X_train.index, columns=[f\"hero_{i}\" for i in range(N)])\n",
    "X_heroes_dummy_num =  X_train_scaled_num.merge(X_heroes_dummy,how='left',left_index = True,right_index=True)"
   ]
  },
  {
   "cell_type": "markdown",
   "metadata": {},
   "source": [
    "5. Проведите кросс-валидацию для логистической регрессии на новой выборке с подбором лучшего параметра регуляризации. Какое получилось качество? Улучшилось ли оно? Чем вы можете это объяснить?"
   ]
  },
  {
   "cell_type": "code",
   "execution_count": 253,
   "metadata": {},
   "outputs": [
    {
     "name": "stdout",
     "output_type": "stream",
     "text": [
      "Наилучшее значение показателя AUC-ROC достигается при C = 0.10 и равно 0.75.\n"
     ]
    },
    {
     "data": {
      "image/png": "[encoded data removed]",
      "text/plain": [
       "<Figure size 432x288 with 1 Axes>"
      ]
     },
     "metadata": {
      "needs_background": "light"
     },
     "output_type": "display_data"
    }
   ],
   "source": [
    "result_df_num_heroes_dummy = LR_define(X_heroes_dummy_num,y)"
   ]
  },
  {
   "cell_type": "markdown",
   "metadata": {},
   "source": [
    "**Вывод:** После добавления \"мешка слов\" по героям качество заметно улучшилось. Это объясняется тем, что вместо отсутствия данных о героях или случайного шума из id мы имеем осмысленную разреженную матрицу для построения предсказания."
   ]
  },
  {
   "cell_type": "markdown",
   "metadata": {},
   "source": [
    "6. Постройте предсказания вероятностей победы команды Radiant для тестовой выборки с помощью лучшей из изученных моделей (лучшей с точки зрения AUC-ROC на кросс-валидации). Убедитесь, что предсказанные вероятности адекватные — находятся на отрезке [0, 1], не совпадают между собой (т.е. что модель не получилась константной)."
   ]
  },
  {
   "cell_type": "markdown",
   "metadata": {},
   "source": [
    "Лучшей из исследованных моделей оказалась логистическая регрессия c обнуленными значениями пропусков, с использованием \"мешка слов\" для кодирования признаков принадлежности типов героев к командам, с l2-регуляризацией с параметром C = 10^-2 построенная на стандартизированных данных. Используем эту модель для предсказания итога игры на тестовых данных."
   ]
  },
  {
   "cell_type": "code",
   "execution_count": 256,
   "metadata": {},
   "outputs": [],
   "source": [
    "X_test = pd.read_csv(r'C:\\Users\\snkna\\Downloads\\\\features_test.csv', index_col='match_id')\n",
    "X_test = X_test.fillna(0)\n",
    "X_test_scaled = pd.DataFrame(scaler.transform(X_test), index=X_test.index, columns=X_test.columns)\n",
    "\n",
    "\n",
    "\n",
    "hero_columns = ['r1_hero','r2_hero','r3_hero','r4_hero','r5_hero','d1_hero','d2_hero','d3_hero','d4_hero','d5_hero']\n",
    "unique_heroes = np.unique(X_test[hero_columns].values.ravel())\n",
    "N = max(unique_heroes)\n",
    "# N — количество различных героев в выборке\n",
    "X_pick = np.zeros((X_test_scaled.shape[0], N))\n",
    "\n",
    "for i, match_id in enumerate(X_test_scaled.index):\n",
    "    for p in range(1,6):\n",
    "        X_pick[i, X_test.loc[match_id, f\"r{p}_hero\"]-1] = 1\n",
    "        X_pick[i, X_test.loc[match_id, f\"d{p}_hero\"]-1] = -1\n",
    "        \n",
    "cat_columns = ['lobby_type','r1_hero','r2_hero','r3_hero','r4_hero','r5_hero','d1_hero','d2_hero','d3_hero','d4_hero','d5_hero']\n",
    "X_test_scaled_num = X_test_scaled.drop(cat_columns,axis=1)\n",
    "X_heroes_dummy_test = pd.DataFrame(X_pick, index=X_test.index, columns=[f\"hero_{i}\" for i in range(N)])\n",
    "X_heroes_dummy_num_test =  X_test_scaled_num.merge(X_heroes_dummy_test,how='left',left_index = True,right_index=True)\n",
    "\n",
    "\n",
    "\n",
    "learner = LogisticRegression(C = 10**-1,random_state=42,max_iter=1200)\n",
    "learner.fit(X_heroes_dummy_num,y)\n",
    "pred = learner.predict_proba(X_heroes_dummy_num_test)[:,1]\n"
   ]
  },
  {
   "cell_type": "markdown",
   "metadata": {},
   "source": [
    "Убедимся в том, что предсказания адекватные: лежат в промежутке [0, 1], а также не повторяют (ну или почти никогда не повторяются). Рассчитаем минимальное, максимальное значения прогнозов, подсчитаем количество прогнозов и количество уникальных прогнозов для тестовых данных."
   ]
  },
  {
   "cell_type": "code",
   "execution_count": 270,
   "metadata": {},
   "outputs": [
    {
     "data": {
      "text/plain": [
       "count    17177.000000\n",
       "mean         0.517030\n",
       "std          0.220950\n",
       "min          0.008426\n",
       "25%          0.346117\n",
       "50%          0.522167\n",
       "75%          0.691643\n",
       "max          0.996372\n",
       "dtype: float64"
      ]
     },
     "execution_count": 270,
     "metadata": {},
     "output_type": "execute_result"
    }
   ],
   "source": [
    "pd.Series(pred).describe()"
   ]
  },
  {
   "cell_type": "code",
   "execution_count": 271,
   "metadata": {},
   "outputs": [
    {
     "data": {
      "image/png": "[encoded data removed]",
      "text/plain": [
       "<Figure size 432x288 with 1 Axes>"
      ]
     },
     "metadata": {
      "needs_background": "light"
     },
     "output_type": "display_data"
    }
   ],
   "source": [
    "plt.hist(pred,bins=30)\n",
    "plt.title('Гистограмма распрееделения вероятности класса 1 \\n для предсказанных значений');\n"
   ]
  },
  {
   "cell_type": "markdown",
   "metadata": {},
   "source": [
    "Предсказания адекватные"
   ]
  }
 ],
 "metadata": {
  "kernelspec": {
   "display_name": "Python 3",
   "language": "python",
   "name": "python3"
  },
  "language_info": {
   "codemirror_mode": {
    "name": "ipython",
    "version": 3
   },
   "file_extension": ".py",
   "mimetype": "text/x-python",
   "name": "python",
   "nbconvert_exporter": "python",
   "pygments_lexer": "ipython3",
   "version": "3.8.3"
  }
 },
 "nbformat": 4,
 "nbformat_minor": 4
}
